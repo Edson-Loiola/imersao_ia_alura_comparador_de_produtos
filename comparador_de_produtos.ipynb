{
  "nbformat": 4,
  "nbformat_minor": 0,
  "metadata": {
    "colab": {
      "provenance": [],
      "authorship_tag": "ABX9TyOqenvFFH26VQ05Uc2lHANv",
      "include_colab_link": true
    },
    "kernelspec": {
      "name": "python3",
      "display_name": "Python 3"
    },
    "language_info": {
      "name": "python"
    }
  },
  "cells": [
    {
      "cell_type": "markdown",
      "metadata": {
        "id": "view-in-github",
        "colab_type": "text"
      },
      "source": [
        "<a href=\"https://colab.research.google.com/github/Edson-Loiola/imersao_ia_alura_comparador_de_produtos/blob/main/comparador_de_produtos.ipynb\" target=\"_parent\"><img src=\"https://colab.research.google.com/assets/colab-badge.svg\" alt=\"Open In Colab\"/></a>"
      ]
    },
    {
      "cell_type": "code",
      "execution_count": 2,
      "metadata": {
        "id": "XQMiT5AQI11x"
      },
      "outputs": [],
      "source": [
        "!pip install -q -U google-generativeai"
      ]
    },
    {
      "cell_type": "code",
      "source": [
        "import textwrap\n",
        "from IPython.display import display\n",
        "from IPython.display import Markdown\n",
        "import google.generativeai as genai\n",
        "from google.colab import userdata\n",
        "\n",
        "\n",
        "\n",
        "GOOGLE_API_KAY = userdata.get('api_key')\n",
        "genai.configure(api_key=GOOGLE_API_KAY)\n",
        "\n",
        "for m in genai.list_models():\n",
        "  if 'generateContent' in m.supported_generation_methods:\n",
        "    print(m.name)\n",
        "\n",
        "generation_config = {\n",
        "    \"candidate_count\": 1,\n",
        "    \"temperature\": 0.5,\n",
        "}\n",
        "\n",
        "safety_settings = {\n",
        "    \"HARASSMENT\": \"BLOCK_NONE\",\n",
        "    \"HATE\": \"BLOCK_NONE\",\n",
        "    \"SEXUAL\": \"BLOCK_NONE\",\n",
        "    \"DANGEROUS\": \"BLOCK_NONE\",\n",
        "}\n",
        "\n",
        "model = genai.GenerativeModel(model_name=\"gemini-1.0-pro\",\n",
        "                              generation_config=generation_config,\n",
        "                              safety_settings=safety_settings)\n",
        "\n",
        "chat = model.start_chat(history=[])"
      ],
      "metadata": {
        "colab": {
          "base_uri": "https://localhost:8080/",
          "height": 138
        },
        "id": "dtD03N3WI5QP",
        "outputId": "a458b7b8-74cc-4134-b73d-522b00b3a83b"
      },
      "execution_count": 13,
      "outputs": [
        {
          "output_type": "stream",
          "name": "stdout",
          "text": [
            "models/gemini-1.0-pro\n",
            "models/gemini-1.0-pro-001\n",
            "models/gemini-1.0-pro-latest\n",
            "models/gemini-1.0-pro-vision-latest\n",
            "models/gemini-1.5-pro-latest\n",
            "models/gemini-pro\n",
            "models/gemini-pro-vision\n"
          ]
        }
      ]
    },
    {
      "cell_type": "code",
      "source": [
        "def to_markdown(text):\n",
        "  text = text.replace('•', '  *')\n",
        "  return Markdown(textwrap.indent(text, '> ', predicate=lambda _: True))\n",
        "\n",
        "def search():\n",
        "  prompt1 = input(\"DIGITE PRODUTO 1: \")\n",
        "  if (prompt1.lower() == \"fim\"):\n",
        "      return prompt1.lower()\n",
        "  prompt2 = input(\"DIGITE PRODUTO 2: \")\n",
        "  print(\"Aguarde, realizando a comparação!\\n\")\n",
        "  send_prompt = f'Faça a comparação entre os produtos: {prompt1} e {prompt2}. Retorne as configurações em uma tabela, depois liste as principais diferenças e características de cada um. Traga também comentários positivos e negativos de usuários de lojas de e-comerce'\n",
        "  return send_prompt\n",
        "\n",
        "t = search()\n",
        "while t != \"fim\":\n",
        "\n",
        "  response = chat.send_message(t)\n",
        "  display(to_markdown(f'**{response.text}**'))\n",
        "  print(\"------------------------------------------------------------------------\\n\")\n",
        "  t = search()\n",
        "\n",
        "print(\"Encerrado!\")\n",
        ""
      ],
      "metadata": {
        "id": "cT4BKc7fJa_P"
      },
      "execution_count": null,
      "outputs": []
    }
  ]
}