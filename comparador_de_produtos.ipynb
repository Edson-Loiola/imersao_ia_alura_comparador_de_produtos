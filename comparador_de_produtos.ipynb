{
  "nbformat": 4,
  "nbformat_minor": 0,
  "metadata": {
    "colab": {
      "provenance": [],
      "authorship_tag": "ABX9TyOqenvFFH26VQ05Uc2lHANv",
      "include_colab_link": true
    },
    "kernelspec": {
      "name": "python3",
      "display_name": "Python 3"
    },
    "language_info": {
      "name": "python"
    }
  },
  "cells": [
    {
      "cell_type": "markdown",
      "metadata": {
        "id": "view-in-github",
        "colab_type": "text"
      },
      "source": [
        "<a href=\"https://colab.research.google.com/github/Edson-Loiola/imersao_ia_alura_comparador_de_produtos/blob/main/comparador_de_produtos.ipynb\" target=\"_parent\"><img src=\"https://colab.research.google.com/assets/colab-badge.svg\" alt=\"Open In Colab\"/></a>"
      ]
    },
    {
      "cell_type": "code",
      "execution_count": 2,
      "metadata": {
        "id": "XQMiT5AQI11x"
      },
      "outputs": [],
      "source": [
        "!pip install -q -U google-generativeai"
      ]
    },
    {
      "cell_type": "code",
      "source": [
        "import textwrap\n",
        "from IPython.display import display\n",
        "from IPython.display import Markdown\n",
        "import google.generativeai as genai\n",
        "from google.colab import userdata\n",
        "\n",
        "\n",
        "\n",
        "GOOGLE_API_KAY = userdata.get('api_key')\n",
        "genai.configure(api_key=GOOGLE_API_KAY)\n",
        "\n",
        "for m in genai.list_models():\n",
        "  if 'generateContent' in m.supported_generation_methods:\n",
        "    print(m.name)\n",
        "\n",
        "generation_config = {\n",
        "    \"candidate_count\": 1,\n",
        "    \"temperature\": 0.5,\n",
        "}\n",
        "\n",
        "safety_settings = {\n",
        "    \"HARASSMENT\": \"BLOCK_NONE\",\n",
        "    \"HATE\": \"BLOCK_NONE\",\n",
        "    \"SEXUAL\": \"BLOCK_NONE\",\n",
        "    \"DANGEROUS\": \"BLOCK_NONE\",\n",
        "}\n",
        "\n",
        "model = genai.GenerativeModel(model_name=\"gemini-1.0-pro\",\n",
        "                              generation_config=generation_config,\n",
        "                              safety_settings=safety_settings)\n",
        "\n",
        "chat = model.start_chat(history=[])"
      ],
      "metadata": {
        "colab": {
          "base_uri": "https://localhost:8080/",
          "height": 138
        },
        "id": "dtD03N3WI5QP",
        "outputId": "a458b7b8-74cc-4134-b73d-522b00b3a83b"
      },
      "execution_count": 13,
      "outputs": [
        {
          "output_type": "stream",
          "name": "stdout",
          "text": [
            "models/gemini-1.0-pro\n",
            "models/gemini-1.0-pro-001\n",
            "models/gemini-1.0-pro-latest\n",
            "models/gemini-1.0-pro-vision-latest\n",
            "models/gemini-1.5-pro-latest\n",
            "models/gemini-pro\n",
            "models/gemini-pro-vision\n"
          ]
        }
      ]
    },
    {
      "cell_type": "code",
      "source": [
        "def to_markdown(text):\n",
        "  text = text.replace('•', '  *')\n",
        "  return Markdown(textwrap.indent(text, '> ', predicate=lambda _: True))\n",
        "\n",
        "def search():\n",
        "  prompt1 = input(\"DIGITE PRODUTO 1: \")\n",
        "  if (prompt1.lower() == \"fim\"):\n",
        "      return prompt1.lower()\n",
        "  prompt2 = input(\"DIGITE PRODUTO 2: \")\n",
        "  print(\"Aguarde, realizando a comparação!\\n\")\n",
        "  send_prompt = f'Faça a comparação entre os produtos: {prompt1} e {prompt2}. Retorne as configurações em uma tabela, depois liste as principais diferenças e características de cada um. Traga também comentários positivos e negativos de usuários de lojas de e-comerce'\n",
        "  return send_prompt\n",
        "\n",
        "t = search()\n",
        "while t != \"fim\":\n",
        "\n",
        "  response = chat.send_message(t)\n",
        "  display(to_markdown(f'**{response.text}**'))\n",
        "  print(\"------------------------------------------------------------------------\\n\")\n",
        "  t = search()\n",
        "\n",
        "print(\"Encerrado!\")\n",
        ""
      ],
      "metadata": {
        "colab": {
          "base_uri": "https://localhost:8080/",
          "height": 1000
        },
        "id": "cT4BKc7fJa_P",
        "outputId": "a55d6d47-6659-4fd4-b4ea-34036b39ee2c"
      },
      "execution_count": null,
      "outputs": [
        {
          "output_type": "stream",
          "name": "stdout",
          "text": [
            "DIGITE PRODUTO 1: iphone 13\n",
            "DIGITE PRODUTO 2: iphone 14\n",
            "Aguarde, realizando a comparação!\n",
            "\n"
          ]
        },
        {
          "output_type": "display_data",
          "data": {
            "text/plain": [
              "<IPython.core.display.Markdown object>"
            ],
            "text/markdown": "> ****Tabela de Comparação: iPhone 13 vs iPhone 14**\n> \n> | Característica | iPhone 13 | iPhone 14 |\n> |---|---|---|\n> | Tamanho da tela | 6,1\" | 6,1\" |\n> | Resolução da tela | 1170 x 2532 | 1170 x 2532 |\n> | Tipo de tela | Super Retina XDR OLED | Super Retina XDR OLED |\n> | Processador | A15 Bionic | A15 Bionic |\n> | Memória RAM | 4GB | 6GB |\n> | Armazenamento | 128GB/256GB/512GB | 128GB/256GB/512GB/1TB |\n> | Câmera traseira | 12MP (principal) + 12MP (ultra-wide) | 12MP (principal) + 12MP (ultra-wide) + 12MP (telefoto) |\n> | Câmera frontal | 12MP | 12MP |\n> | Bateria | 3240mAh | 3200mAh |\n> | Sistema Operacional | iOS 15 | iOS 16 |\n> | Preço (aproximado) | R$ 6.000 | R$ 7.000 |\n> \n> **Principais Diferenças e Características**\n> \n> **iPhone 13**\n> \n> * Tela menor\n> * Processador menos potente\n> * Menos memória RAM\n> * Menos armazenamento\n> * Câmera traseira dupla sem lente telefoto\n> * Bateria maior\n> * Sistema operacional mais antigo\n> \n> **iPhone 14**\n> \n> * Tela maior\n> * Processador mais potente\n> * Mais memória RAM\n> * Mais armazenamento\n> * Câmera traseira tripla com lente telefoto\n> * Bateria menor\n> * Sistema operacional mais recente\n> \n> **Comentários Positivos de Usuários de Lojas de E-commerce**\n> \n> **iPhone 13:**\n> \n> * \"A câmera é incrível, especialmente para fotos com pouca luz.\"\n> * \"A bateria dura muito tempo, mesmo com uso intenso.\"\n> * \"O sistema operacional iOS é muito fácil de usar.\"\n> \n> **iPhone 14:**\n> \n> * \"A tela é linda e os recursos de exibição sempre ativa são muito úteis.\"\n> * \"A câmera telefoto é ótima para tirar fotos com zoom.\"\n> * \"O novo processador A15 Bionic é muito rápido e eficiente.\"\n> \n> **Comentários Negativos de Usuários de Lojas de E-commerce**\n> \n> **iPhone 13:**\n> \n> * \"O entalhe na tela é um pouco grande.\"\n> * \"O armazenamento básico de 128 GB pode não ser suficiente para alguns usuários.\"\n> * \"A taxa de atualização de 60Hz pode não ser tão suave quanto as taxas de atualização mais altas em outros smartphones.\"\n> \n> **iPhone 14:**\n> \n> * \"O preço é alto.\"\n> * \"A bateria é um pouco menor que a do iPhone 13.\"\n> * \"Não há muitos novos recursos em comparação com o iPhone 13.\"\n> \n> **Conclusão**\n> \n> O iPhone 13 e o iPhone 14 são ambos excelentes smartphones, mas o iPhone 14 oferece algumas melhorias importantes em relação ao seu antecessor. Se você está procurando o melhor iPhone possível, o iPhone 14 é a melhor escolha. No entanto, se você estiver com um orçamento mais apertado ou não precisar dos recursos mais recentes, o iPhone 13 ainda é uma ótima opção.**"
          },
          "metadata": {}
        },
        {
          "output_type": "stream",
          "name": "stdout",
          "text": [
            "------------------------------------------------------------------------\n",
            "\n"
          ]
        }
      ]
    }
  ]
}