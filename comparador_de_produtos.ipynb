{
  "nbformat": 4,
  "nbformat_minor": 0,
  "metadata": {
    "colab": {
      "provenance": [],
      "authorship_tag": "ABX9TyO/TkxyYhJ36btVZALEoyma",
      "include_colab_link": true
    },
    "kernelspec": {
      "name": "python3",
      "display_name": "Python 3"
    },
    "language_info": {
      "name": "python"
    }
  },
  "cells": [
    {
      "cell_type": "markdown",
      "metadata": {
        "id": "view-in-github",
        "colab_type": "text"
      },
      "source": [
        "<a href=\"https://colab.research.google.com/github/Edson-Loiola/imersao_ia_alura_comparador_de_produtos/blob/main/comparador_de_produtos.ipynb\" target=\"_parent\"><img src=\"https://colab.research.google.com/assets/colab-badge.svg\" alt=\"Open In Colab\"/></a>"
      ]
    },
    {
      "cell_type": "code",
      "execution_count": 2,
      "metadata": {
        "id": "XQMiT5AQI11x"
      },
      "outputs": [],
      "source": [
        "!pip install -q -U google-generativeai"
      ]
    },
    {
      "cell_type": "code",
      "source": [
        "import textwrap\n",
        "from IPython.display import display\n",
        "from IPython.display import Markdown\n",
        "import google.generativeai as genai\n",
        "from google.colab import userdata\n",
        "\n",
        "\n",
        "\n",
        "GOOGLE_API_KAY = userdata.get('api_key')\n",
        "genai.configure(api_key=GOOGLE_API_KAY)\n",
        "\n",
        "for m in genai.list_models():\n",
        "  if 'generateContent' in m.supported_generation_methods:\n",
        "    print(m.name)\n",
        "\n",
        "generation_config = {\n",
        "    \"candidate_count\": 1,\n",
        "    \"temperature\": 0.5,\n",
        "}\n",
        "\n",
        "safety_settings = {\n",
        "    \"HARASSMENT\": \"BLOCK_NONE\",\n",
        "    \"HATE\": \"BLOCK_NONE\",\n",
        "    \"SEXUAL\": \"BLOCK_NONE\",\n",
        "    \"DANGEROUS\": \"BLOCK_NONE\",\n",
        "}\n",
        "\n",
        "model = genai.GenerativeModel(model_name=\"gemini-1.0-pro\",\n",
        "                              generation_config=generation_config,\n",
        "                              safety_settings=safety_settings)\n",
        "\n",
        "chat = model.start_chat(history=[])"
      ],
      "metadata": {
        "colab": {
          "base_uri": "https://localhost:8080/",
          "height": 138
        },
        "id": "dtD03N3WI5QP",
        "outputId": "a458b7b8-74cc-4134-b73d-522b00b3a83b"
      },
      "execution_count": 13,
      "outputs": [
        {
          "output_type": "stream",
          "name": "stdout",
          "text": [
            "models/gemini-1.0-pro\n",
            "models/gemini-1.0-pro-001\n",
            "models/gemini-1.0-pro-latest\n",
            "models/gemini-1.0-pro-vision-latest\n",
            "models/gemini-1.5-pro-latest\n",
            "models/gemini-pro\n",
            "models/gemini-pro-vision\n"
          ]
        }
      ]
    },
    {
      "cell_type": "code",
      "source": [
        "def to_markdown(text):\n",
        "  text = text.replace('•', '  *')\n",
        "  return Markdown(textwrap.indent(text, '> ', predicate=lambda _: True))\n",
        "\n",
        "def search():\n",
        "  prompt1 = input(\"PRODUTO 1: \")\n",
        "  if (prompt1.lower() == \"fim\"):\n",
        "      return prompt1.lower()\n",
        "  prompt2 = input(\"PRODUTO 2: \")\n",
        "  send_prompt = f'Faça a comparação entre os produtos: {prompt1} e {prompt2}. Retorne as configurações em uma tabela, depois liste as principais diferenças e características de cada um.'\n",
        "  return send_prompt\n",
        "\n",
        "t = search()\n",
        "while t != \"fim\":\n",
        "\n",
        "  response = chat.send_message(t)\n",
        "  display(to_markdown(f'**{response.text}**'))\n",
        "  print(\"------------------------------------------------------------------------\\n\")\n",
        "  t = search()\n",
        "\n",
        "print(\"Encerrado!\")\n",
        ""
      ],
      "metadata": {
        "colab": {
          "base_uri": "https://localhost:8080/",
          "height": 816
        },
        "id": "cT4BKc7fJa_P",
        "outputId": "0cdc07ea-4481-45f8-b805-00b8778203c3"
      },
      "execution_count": 14,
      "outputs": [
        {
          "name": "stdout",
          "output_type": "stream",
          "text": [
            "PRODUTO 1: moto g6\n",
            "PRODUTO 2: moto g8\n"
          ]
        },
        {
          "output_type": "display_data",
          "data": {
            "text/plain": [
              "<IPython.core.display.Markdown object>"
            ],
            "text/markdown": "> ****Tabela de Comparação: Moto G6 vs Moto G8**\n> \n> | Característica | Moto G6 | Moto G8 |\n> |---|---|---|\n> | Tela | 5,7\" IPS LCD (1080 x 2160) | 6,4\" IPS LCD (1560 x 720) |\n> | Processador | Snapdragon 450 | Snapdragon 665 |\n> | Memória RAM | 3GB/4GB | 4GB |\n> | Armazenamento | 32GB/64GB | 64GB |\n> | Câmera traseira | 12MP + 5MP | 16MP + 8MP + 2MP |\n> | Câmera frontal | 8MP | 8MP |\n> | Bateria | 3000mAh | 4000mAh |\n> | Sistema Operacional | Android 8.0 Oreo | Android 10 |\n> | Preço (aproximado) | R$ 800 | R$ 1.200 |\n> \n> **Principais Diferenças e Características**\n> \n> **Moto G6**\n> \n> * Tela menor e mais nítida (1080p)\n> * Processador menos potente\n> * Menos memória RAM\n> * Menos armazenamento\n> * Câmera traseira dupla com menor resolução\n> * Bateria menor\n> * Sistema operacional mais antigo\n> \n> **Moto G8**\n> \n> * Tela maior e menos nítida (720p)\n> * Processador mais potente\n> * Mais memória RAM\n> * Mais armazenamento\n> * Câmera traseira tripla com maior resolução\n> * Bateria maior\n> * Sistema operacional mais recente**"
          },
          "metadata": {}
        },
        {
          "output_type": "stream",
          "name": "stdout",
          "text": [
            "------------------------------------------------------------------------\n",
            "\n",
            "PRODUTO 1: fim\n",
            "Encerrado!\n"
          ]
        }
      ]
    }
  ]
}